{
 "cells": [
  {
   "cell_type": "code",
   "execution_count": 1,
   "metadata": {
    "pycharm": {
     "name": "#%%\n"
    }
   },
   "outputs": [],
   "source": [
    "# Change dir to repo root if running from repo (rather than pip installed)\n",
    "# (Assuming running from [repo]/notes/)\n",
    "import os\n",
    "os.chdir('../')\n",
    "\n",
    "%load_ext autoreload\n",
    "%autoreload 2"
   ]
  },
  {
   "cell_type": "code",
   "execution_count": 4,
   "metadata": {
    "pycharm": {
     "name": "#%%\n"
    }
   },
   "outputs": [],
   "source": [
    "import numpy as np\n",
    "\n",
    "\n",
    "from incremental_trees.trees import StreamingRFC\n",
    "\n",
    "from sklearn.metrics import roc_auc_score\n",
    "from sklearn.ensemble import RandomForestClassifier\n",
    "from sklearn.datasets import load_breast_cancer\n",
    "from sklearn.model_selection import train_test_split\n",
    "from sklearn.metrics import classification_report"
   ]
  },
  {
   "cell_type": "code",
   "execution_count": 5,
   "metadata": {
    "pycharm": {
     "name": "#%%\n"
    }
   },
   "outputs": [],
   "source": [
    "x, y = load_breast_cancer(return_X_y=True)\n",
    "x_train, x_test, y_train, y_test = train_test_split(x, y, test_size=0.25, random_state=123)"
   ]
  },
  {
   "cell_type": "code",
   "execution_count": 6,
   "metadata": {
    "pycharm": {
     "name": "#%%\n"
    }
   },
   "outputs": [],
   "source": [
    "def fit_srfc(srfc, x, y,\n",
    "             sequential: bool=True,\n",
    "             n_prop: float=0.1,\n",
    "             n_p_fits: int=10) -> StreamingRFC:\n",
    "    \"\"\"\n",
    "    Fit the streaming RFC. Total number of rows used in training varies depending on sequential.\n",
    "\n",
    "    sequential==True\n",
    "    In this case, rows used per estimator scales with n_estimators. So in total 100% of rows are used for\n",
    "    training once.\n",
    "    If there are 10 calls, 10% of data is used in each .partial_fit call. Equivalent n rows to 1 tree.\n",
    "    If 100 calls, 1% of data used in each .partial_fit call. Still equivalent n rows to 1 tree.\n",
    "    This is similar to the Dask use case.\n",
    "\n",
    "    sequential==False\n",
    "    Randomly sample % of data with replacement n times.\n",
    "    Set % to sample and n calls, allows over sampling to compare more directly with RandomForest.\n",
    "    If there are 10 calls and 10% of data is used in each .partial_fit call: Equivalent n rows to 1 tree.\n",
    "    If 100 calls, 10% of data used in each .partial_fit call: 1000% of rows used, equivalent n rows to 10 trees.\n",
    "\n",
    "    :param sequential: If true step through all data once. If False, draw n_prop proportions of data n_draws times.\n",
    "    :param n_prop: When sequential is False, use to set prop of data to draw in each .partial_fit call.\n",
    "    :param n_p_fits: Number of partial_fit calls to make. \n",
    "\n",
    "    :return:\n",
    "    \"\"\"\n",
    "\n",
    "    n_rows = x.shape[0]\n",
    "\n",
    "    if sequential:\n",
    "        # Step through all data once\n",
    "        n_sample_rows = int(n_rows / n_p_fits)\n",
    "        sidx = 0\n",
    "        eidx = n_sample_rows\n",
    "        for i in range(n_p_fits):\n",
    "            idx = np.arange(sidx, eidx)\n",
    "            srfc.partial_fit(x[idx, :], y[idx],\n",
    "                             classes=[0, 1])\n",
    "            sidx = eidx\n",
    "            eidx = min(eidx + n_sample_rows, n_rows)\n",
    "    else:\n",
    "        # Sample n_prop of data self.srfc_n_partial_fit_calls times\n",
    "        n_sample_rows = int(n_rows * n_prop)\n",
    "        for i in range(n_p_fits):\n",
    "            # Sample indexes with replacement\n",
    "            idx = np.random.randint(0, n_rows, n_sample_rows)\n",
    "            srfc.partial_fit(x[idx, :], y[idx],\n",
    "                             classes=[0, 1])\n",
    "\n",
    "    return srfc\n",
    "\n",
    "def mod_report(mod, x_train, x_test, y_train, y_test):\n",
    "\n",
    "    report = classification_report(y_test, mod.predict(x_test))\n",
    "    train_auc = roc_auc_score(y_train, mod.predict_proba(x_train)[:, 1])\n",
    "    test_auc = roc_auc_score(y_test, mod.predict_proba(x_test)[:, 1])\n",
    "\n",
    "    print(report)\n",
    "    print(f\"Train AUC: {train_auc}\")\n",
    "    print(f\"Test AUC: {test_auc}\")"
   ]
  },
  {
   "cell_type": "markdown",
   "metadata": {
    "pycharm": {
     "name": "#%% md\n"
    }
   },
   "source": [
    "# 10 full trees vs equivilents\n",
    "RFC: 10 tress with 100%\n",
    "\n",
    "## vs SRFC: 10 x 1 x 0.1 vs 10\n",
    "10 fits with 1 tree on 10% of data each"
   ]
  },
  {
   "cell_type": "code",
   "execution_count": 7,
   "metadata": {
    "pycharm": {
     "name": "#%%\n"
    }
   },
   "outputs": [
    {
     "name": "stdout",
     "output_type": "stream",
     "text": [
      "              precision    recall  f1-score   support\n",
      "\n",
      "           0       0.96      0.98      0.97        54\n",
      "           1       0.99      0.98      0.98        89\n",
      "\n",
      "    accuracy                           0.98       143\n",
      "   macro avg       0.98      0.98      0.98       143\n",
      "weighted avg       0.98      0.98      0.98       143\n",
      "\n",
      "Train AUC: 0.9999763839032684\n",
      "Test AUC: 0.9888680815647108\n"
     ]
    }
   ],
   "source": [
    "rfc = RandomForestClassifier(n_estimators=10)\n",
    "rfc.fit(x_train, y_train)\n",
    "mod_report(rfc, x_train, x_test, y_train, y_test)"
   ]
  },
  {
   "cell_type": "code",
   "execution_count": 8,
   "metadata": {
    "pycharm": {
     "name": "#%%\n"
    }
   },
   "outputs": [
    {
     "name": "stdout",
     "output_type": "stream",
     "text": [
      "              precision    recall  f1-score   support\n",
      "\n",
      "           0       0.98      0.94      0.96        54\n",
      "           1       0.97      0.99      0.98        89\n",
      "\n",
      "    accuracy                           0.97       143\n",
      "   macro avg       0.97      0.97      0.97       143\n",
      "weighted avg       0.97      0.97      0.97       143\n",
      "\n",
      "Train AUC: 0.9830554505951257\n",
      "Test AUC: 0.987411568872243\n"
     ]
    }
   ],
   "source": [
    "srfc = fit_srfc(StreamingRFC(n_estimators_per_chunk=1),\n",
    "                x_train, y_train,\n",
    "                sequential=False,\n",
    "                n_prop=0.1,\n",
    "                n_p_fits=10)\n",
    "\n",
    "mod_report(srfc, x_train, x_test, y_train, y_test)"
   ]
  },
  {
   "cell_type": "markdown",
   "metadata": {
    "pycharm": {
     "name": "#%% md\n"
    }
   },
   "source": [
    "## vs SRFC: 100 x 1 x 0.1 vs 10\n",
    "100 fits with 1 tree on 10% of data each"
   ]
  },
  {
   "cell_type": "code",
   "execution_count": 9,
   "metadata": {
    "pycharm": {
     "name": "#%%\n"
    }
   },
   "outputs": [
    {
     "name": "stdout",
     "output_type": "stream",
     "text": [
      "              precision    recall  f1-score   support\n",
      "\n",
      "           0       0.98      0.96      0.97        54\n",
      "           1       0.98      0.99      0.98        89\n",
      "\n",
      "    accuracy                           0.98       143\n",
      "   macro avg       0.98      0.98      0.98       143\n",
      "weighted avg       0.98      0.98      0.98       143\n",
      "\n",
      "Train AUC: 0.975769884753448\n",
      "Test AUC: 0.9938618393674573\n"
     ]
    }
   ],
   "source": [
    "srfc = fit_srfc(StreamingRFC(n_estimators_per_chunk=1),\n",
    "                x_train, y_train,\n",
    "                sequential=False,\n",
    "                n_prop=0.1,\n",
    "                n_p_fits=100)\n",
    "\n",
    "mod_report(srfc, x_train, x_test, y_train, y_test)"
   ]
  },
  {
   "cell_type": "markdown",
   "metadata": {
    "pycharm": {
     "name": "#%% md\n"
    }
   },
   "source": [
    "## vs SRFC: 100 x 10 x 0.1 vs 10\n",
    "100 fits with 1 tree on 10% of data each"
   ]
  },
  {
   "cell_type": "code",
   "execution_count": 10,
   "metadata": {
    "pycharm": {
     "name": "#%%\n"
    }
   },
   "outputs": [
    {
     "name": "stdout",
     "output_type": "stream",
     "text": [
      "              precision    recall  f1-score   support\n",
      "\n",
      "           0       1.00      0.93      0.96        54\n",
      "           1       0.96      1.00      0.98        89\n",
      "\n",
      "    accuracy                           0.97       143\n",
      "   macro avg       0.98      0.96      0.97       143\n",
      "weighted avg       0.97      0.97      0.97       143\n",
      "\n",
      "Train AUC: 0.990459096920461\n",
      "Test AUC: 0.985538909696213\n"
     ]
    }
   ],
   "source": [
    "srfc = fit_srfc(StreamingRFC(n_estimators_per_chunk=10),\n",
    "                x_train, y_train,\n",
    "                sequential=False,\n",
    "                n_prop=0.1,\n",
    "                n_p_fits=100)\n",
    "\n",
    "mod_report(srfc, x_train, x_test, y_train, y_test)"
   ]
  },
  {
   "cell_type": "markdown",
   "metadata": {
    "pycharm": {
     "name": "#%% md\n"
    }
   },
   "source": [
    "## vs SRFC: 100 x 1 x 0.1 vs 10 (all features per tree)\n",
    "100 fits with 1 tree on 10% of data each"
   ]
  },
  {
   "cell_type": "code",
   "execution_count": 11,
   "metadata": {
    "pycharm": {
     "name": "#%%\n"
    }
   },
   "outputs": [
    {
     "name": "stdout",
     "output_type": "stream",
     "text": [
      "              precision    recall  f1-score   support\n",
      "\n",
      "           0       1.00      0.91      0.95        54\n",
      "           1       0.95      1.00      0.97        89\n",
      "\n",
      "    accuracy                           0.97       143\n",
      "   macro avg       0.97      0.95      0.96       143\n",
      "weighted avg       0.97      0.97      0.96       143\n",
      "\n",
      "Train AUC: 0.9882155677309654\n",
      "Test AUC: 0.987411568872243\n"
     ]
    }
   ],
   "source": [
    "srfc = fit_srfc(StreamingRFC(n_estimators_per_chunk=1, \n",
    "                             max_features=x_train.shape[1]),\n",
    "                x_train, y_train,\n",
    "                sequential=False,\n",
    "                n_prop=0.1,\n",
    "                n_p_fits=100)\n",
    "\n",
    "mod_report(srfc, x_train, x_test, y_train, y_test)"
   ]
  },
  {
   "cell_type": "markdown",
   "metadata": {
    "pycharm": {
     "name": "#%% md\n"
    }
   },
   "source": [
    "## vs SRFC: 33 x 3 x 0.1 vs 10 (sampled features per tree)\n",
    "100 fits with 1 tree on 10% of data each"
   ]
  },
  {
   "cell_type": "code",
   "execution_count": 12,
   "metadata": {
    "pycharm": {
     "name": "#%%\n"
    }
   },
   "outputs": [
    {
     "name": "stdout",
     "output_type": "stream",
     "text": [
      "              precision    recall  f1-score   support\n",
      "\n",
      "           0       1.00      0.94      0.97        54\n",
      "           1       0.97      1.00      0.98        89\n",
      "\n",
      "    accuracy                           0.98       143\n",
      "   macro avg       0.98      0.97      0.98       143\n",
      "weighted avg       0.98      0.98      0.98       143\n",
      "\n",
      "Train AUC: 0.9930096353674664\n",
      "Test AUC: 0.9985434873075323\n"
     ]
    }
   ],
   "source": [
    "srfc = fit_srfc(StreamingRFC(n_estimators_per_chunk=3),\n",
    "                x_train, y_train,\n",
    "                sequential=False,\n",
    "                n_prop=0.1,\n",
    "                n_p_fits=33)\n",
    "\n",
    "mod_report(srfc, x_train, x_test, y_train, y_test)"
   ]
  },
  {
   "cell_type": "code",
   "execution_count": null,
   "metadata": {
    "pycharm": {
     "name": "#%%\n"
    }
   },
   "outputs": [],
   "source": []
  }
 ],
 "metadata": {
  "kernelspec": {
   "display_name": "Python 3",
   "language": "python",
   "name": "python3"
  },
  "language_info": {
   "codemirror_mode": {
    "name": "ipython",
    "version": 3
   },
   "file_extension": ".py",
   "mimetype": "text/x-python",
   "name": "python",
   "nbconvert_exporter": "python",
   "pygments_lexer": "ipython3",
   "version": "3.6.8"
  }
 },
 "nbformat": 4,
 "nbformat_minor": 2
}