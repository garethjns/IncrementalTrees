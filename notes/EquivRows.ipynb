{
 "cells": [
  {
   "cell_type": "code",
   "execution_count": 1,
   "metadata": {},
   "outputs": [],
   "source": [
    "# Change dir to repo root if running from repo (rather than pip installed)\n",
    "# (Assuming running from [repo]/notes/)\n",
    "import os\n",
    "os.chdir('../')\n",
    "\n",
    "%load_ext autoreload\n",
    "%autoreload 2"
   ]
  },
  {
   "cell_type": "code",
   "execution_count": 5,
   "metadata": {},
   "outputs": [],
   "source": [
    "import matplotlib.pyplot as plt\n",
    "import numpy as np\n",
    "import math\n",
    "\n",
    "from typing import Tuple\n",
    "\n",
    "from incremental_trees.trees import StreamingRFC\n",
    "\n",
    "from sklearn.ensemble import RandomForestClassifier\n",
    "from sklearn.datasets import make_blobs\n",
    "from sklearn.model_selection import train_test_split\n",
    "from sklearn.metrics import roc_auc_score\n",
    "from sklearn.ensemble.forest import RandomForestClassifier\n",
    "from sklearn.datasets import load_breast_cancer\n",
    "from sklearn.model_selection import train_test_split\n",
    "from sklearn.linear_model import LogisticRegression\n",
    "from sklearn.metrics.classification import classification_report\n",
    "from sklearn.base import clone"
   ]
  },
  {
   "cell_type": "code",
   "execution_count": 6,
   "metadata": {},
   "outputs": [],
   "source": [
    "x, y = load_breast_cancer(return_X_y=True)\n",
    "x_train, x_test, y_train, y_test = train_test_split(x, y,\n",
    "                                                    test_size=0.25,\n",
    "                                                    random_state=123)"
   ]
  },
  {
   "cell_type": "code",
   "execution_count": 24,
   "metadata": {},
   "outputs": [],
   "source": [
    "def fit_srfc(srfc, x, y,\n",
    "             sequential: bool=True,\n",
    "             n_prop: float=0.1,\n",
    "             n_p_fits: int=10) -> StreamingRFC:\n",
    "    \"\"\"\n",
    "    Fit the streaming RFC. Total number of rows used in training varies depending on sequential.\n",
    "\n",
    "    sequential==True\n",
    "    In this case, rows used per estimator scales with n_estimators. So in total 100% of rows are used for\n",
    "    training once.\n",
    "    If there are 10 calls, 10% of data is used in each .partial_fit call. Equivalent n rows to 1 tree.\n",
    "    If 100 calls, 1% of data used in each .partial_fit call. Still equivalent n rows to 1 tree.\n",
    "    This is similar to the Dask use case.\n",
    "\n",
    "    sequential==False\n",
    "    Randomly sample % of data with replacement n times.\n",
    "    Set % to sample and n calls, allows over sampling to compare more directly with RandomForest.\n",
    "    If there are 10 calls and 10% of data is used in each .partial_fit call: Equivalent n rows to 1 tree.\n",
    "    If 100 calls, 10% of data used in each .partial_fit call: 1000% of rows used, equivalent n rows to 10 trees.\n",
    "\n",
    "    :param sequential: If true step through all data once. If False, draw n_prop proportions of data n_draws times.\n",
    "    :param n_prop: When sequential is False, use to set prop of data to draw in each .partial_fit call.\n",
    "    :param n_p_fits: Number of partial_fit calls to make. \n",
    "\n",
    "    :return:\n",
    "    \"\"\"\n",
    "\n",
    "    n_rows = x.shape[0]\n",
    "\n",
    "    if sequential:\n",
    "        # Step through all data once\n",
    "        n_sample_rows = int(n_rows / n_p_fits)\n",
    "        sidx = 0\n",
    "        eidx = n_sample_rows\n",
    "        for i in range(n_p_fits):\n",
    "            idx = np.arange(sidx, eidx)\n",
    "            srfc.partial_fit(x[idx, :], y[idx],\n",
    "                             classes=[0, 1])\n",
    "            sidx = eidx\n",
    "            eidx = min(eidx + n_sample_rows, n_rows)\n",
    "    else:\n",
    "        # Sample n_prop of data self.srfc_n_partial_fit_calls times\n",
    "        n_sample_rows = int(n_rows * n_prop)\n",
    "        for i in range(n_p_fits):\n",
    "            # Sample indexes with replacement\n",
    "            idx = np.random.randint(0, n_rows, n_sample_rows)\n",
    "            srfc.partial_fit(x[idx, :], y[idx],\n",
    "                             classes=[0, 1])\n",
    "\n",
    "    return srfc\n",
    "\n",
    "def mod_report(mod, x_train, x_test, y_train, y_test):\n",
    "\n",
    "    report = classification_report(y_test, mod.predict(x_test))\n",
    "    train_auc = roc_auc_score(y_train, mod.predict_proba(x_train)[:, 1])\n",
    "    test_auc = roc_auc_score(y_test, mod.predict_proba(x_test)[:, 1])\n",
    "\n",
    "    print(report)\n",
    "    print(f\"Train AUC: {train_auc}\")\n",
    "    print(f\"Test AUC: {test_auc}\")"
   ]
  },
  {
   "cell_type": "markdown",
   "metadata": {},
   "source": [
    "# 10 full trees vs equivilents\n",
    "RFC: 10 tress with 100%\n",
    "\n",
    "## vs SRFC: 10 x 1 x 0.1 vs 10\n",
    "10 fits with 1 tree on 10% of data each"
   ]
  },
  {
   "cell_type": "code",
   "execution_count": 32,
   "metadata": {},
   "outputs": [
    {
     "name": "stdout",
     "output_type": "stream",
     "text": [
      "              precision    recall  f1-score   support\n",
      "\n",
      "           0       1.00      0.98      0.99        54\n",
      "           1       0.99      1.00      0.99        89\n",
      "\n",
      "   micro avg       0.99      0.99      0.99       143\n",
      "   macro avg       0.99      0.99      0.99       143\n",
      "weighted avg       0.99      0.99      0.99       143\n",
      "\n",
      "Train AUC: 0.9998583034196108\n",
      "Test AUC: 0.9886600083229296\n"
     ]
    }
   ],
   "source": [
    "rfc = RandomForestClassifier(n_estimators=10)\n",
    "rfc.fit(x_train, y_train)\n",
    "mod_report(rfc, x_train, x_test, y_train, y_test)"
   ]
  },
  {
   "cell_type": "code",
   "execution_count": 33,
   "metadata": {},
   "outputs": [
    {
     "name": "stdout",
     "output_type": "stream",
     "text": [
      "              precision    recall  f1-score   support\n",
      "\n",
      "           0       0.91      0.91      0.91        54\n",
      "           1       0.94      0.94      0.94        89\n",
      "\n",
      "   micro avg       0.93      0.93      0.93       143\n",
      "   macro avg       0.93      0.93      0.93       143\n",
      "weighted avg       0.93      0.93      0.93       143\n",
      "\n",
      "Train AUC: 0.9814495560173814\n",
      "Test AUC: 0.9889721181856014\n"
     ]
    }
   ],
   "source": [
    "srfc = fit_srfc(StreamingRFC(n_estimators_per_chunk=1),\n",
    "                x_train, y_train,\n",
    "                sequential=False,\n",
    "                n_prop=0.1,\n",
    "                n_p_fits=10)\n",
    "\n",
    "mod_report(srfc, x_train, x_test, y_train, y_test)"
   ]
  },
  {
   "cell_type": "markdown",
   "metadata": {},
   "source": [
    "## vs SRFC: 100 x 1 x 0.1 vs 10\n",
    "100 fits with 1 tree on 10% of data each"
   ]
  },
  {
   "cell_type": "code",
   "execution_count": 34,
   "metadata": {},
   "outputs": [
    {
     "name": "stdout",
     "output_type": "stream",
     "text": [
      "              precision    recall  f1-score   support\n",
      "\n",
      "           0       0.98      0.93      0.95        54\n",
      "           1       0.96      0.99      0.97        89\n",
      "\n",
      "   micro avg       0.97      0.97      0.97       143\n",
      "   macro avg       0.97      0.96      0.96       143\n",
      "weighted avg       0.97      0.97      0.96       143\n",
      "\n",
      "Train AUC: 0.9757580767050822\n",
      "Test AUC: 0.9916770703287556\n"
     ]
    }
   ],
   "source": [
    "srfc = fit_srfc(StreamingRFC(n_estimators_per_chunk=1),\n",
    "                x_train, y_train,\n",
    "                sequential=False,\n",
    "                n_prop=0.1,\n",
    "                n_p_fits=100)\n",
    "\n",
    "mod_report(srfc, x_train, x_test, y_train, y_test)"
   ]
  },
  {
   "cell_type": "markdown",
   "metadata": {},
   "source": [
    "## vs SRFC: 100 x 10 x 0.1 vs 10\n",
    "100 fits with 1 tree on 10% of data each"
   ]
  },
  {
   "cell_type": "code",
   "execution_count": 35,
   "metadata": {},
   "outputs": [
    {
     "name": "stdout",
     "output_type": "stream",
     "text": [
      "              precision    recall  f1-score   support\n",
      "\n",
      "           0       0.98      0.83      0.90        54\n",
      "           1       0.91      0.99      0.95        89\n",
      "\n",
      "   micro avg       0.93      0.93      0.93       143\n",
      "   macro avg       0.94      0.91      0.92       143\n",
      "weighted avg       0.93      0.93      0.93       143\n",
      "\n",
      "Train AUC: 0.967846684300019\n",
      "Test AUC: 0.9850187265917603\n"
     ]
    }
   ],
   "source": [
    "srfc = fit_srfc(StreamingRFC(n_estimators_per_chunk=10),\n",
    "                x_train, y_train,\n",
    "                sequential=False,\n",
    "                n_prop=0.1,\n",
    "                n_p_fits=100)\n",
    "\n",
    "mod_report(srfc, x_train, x_test, y_train, y_test)"
   ]
  },
  {
   "cell_type": "markdown",
   "metadata": {},
   "source": [
    "## vs SRFC: 100 x 1 x 0.1 vs 10 (all features per tree)\n",
    "100 fits with 1 tree on 10% of data each"
   ]
  },
  {
   "cell_type": "code",
   "execution_count": 49,
   "metadata": {},
   "outputs": [
    {
     "name": "stdout",
     "output_type": "stream",
     "text": [
      "              precision    recall  f1-score   support\n",
      "\n",
      "           0       0.98      0.93      0.95        54\n",
      "           1       0.96      0.99      0.97        89\n",
      "\n",
      "   micro avg       0.97      0.97      0.97       143\n",
      "   macro avg       0.97      0.96      0.96       143\n",
      "weighted avg       0.97      0.97      0.96       143\n",
      "\n",
      "Train AUC: 0.9817801813716229\n",
      "Test AUC: 0.9847066167290888\n"
     ]
    }
   ],
   "source": [
    "srfc = fit_srfc(StreamingRFC(n_estimators_per_chunk=1, \n",
    "                             max_features=x_train.shape[1]),\n",
    "                x_train, y_train,\n",
    "                sequential=False,\n",
    "                n_prop=0.1,\n",
    "                n_p_fits=100)\n",
    "\n",
    "mod_report(srfc, x_train, x_test, y_train, y_test)"
   ]
  },
  {
   "cell_type": "markdown",
   "metadata": {},
   "source": [
    "## vs SRFC: 33 x 3 x 0.1 vs 10 (sampled features per tree)\n",
    "100 fits with 1 tree on 10% of data each"
   ]
  },
  {
   "cell_type": "code",
   "execution_count": 48,
   "metadata": {},
   "outputs": [
    {
     "name": "stdout",
     "output_type": "stream",
     "text": [
      "              precision    recall  f1-score   support\n",
      "\n",
      "           0       0.98      0.98      0.98        54\n",
      "           1       0.99      0.99      0.99        89\n",
      "\n",
      "   micro avg       0.99      0.99      0.99       143\n",
      "   macro avg       0.99      0.99      0.99       143\n",
      "weighted avg       0.99      0.99      0.99       143\n",
      "\n",
      "Train AUC: 0.9844606083506519\n",
      "Test AUC: 0.9887640449438202\n"
     ]
    }
   ],
   "source": [
    "srfc = fit_srfc(StreamingRFC(n_estimators_per_chunk=3),\n",
    "                x_train, y_train,\n",
    "                sequential=False,\n",
    "                n_prop=0.1,\n",
    "                n_p_fits=33)\n",
    "\n",
    "mod_report(srfc, x_train, x_test, y_train, y_test)"
   ]
  },
  {
   "cell_type": "code",
   "execution_count": null,
   "metadata": {},
   "outputs": [],
   "source": []
  }
 ],
 "metadata": {
  "kernelspec": {
   "display_name": "Python 3",
   "language": "python",
   "name": "python3"
  },
  "language_info": {
   "codemirror_mode": {
    "name": "ipython",
    "version": 3
   },
   "file_extension": ".py",
   "mimetype": "text/x-python",
   "name": "python",
   "nbconvert_exporter": "python",
   "pygments_lexer": "ipython3",
   "version": "3.6.8"
  }
 },
 "nbformat": 4,
 "nbformat_minor": 2
}
